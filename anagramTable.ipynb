{
 "cells": [
  {
   "cell_type": "code",
   "execution_count": 1,
   "metadata": {},
   "outputs": [],
   "source": [
    "import json"
   ]
  },
  {
   "cell_type": "code",
   "execution_count": 3,
   "metadata": {},
   "outputs": [],
   "source": [
    "#Initialise dictionary\n",
    "with open(\"dict.txt\") as f:\n",
    "    dictionary = [el[:-1] for el in f.readlines()]"
   ]
  },
  {
   "cell_type": "code",
   "execution_count": 12,
   "metadata": {},
   "outputs": [],
   "source": [
    "#Anagram table\n",
    "class AnagramTable(object):\n",
    "\n",
    "    def __init__(self, words):\n",
    "            self.table = {}\n",
    "            for word in words:\n",
    "                self.add(word)\n",
    "\n",
    "    def add(self, word):\n",
    "        word = word.lower()\n",
    "        key = self._getKey(word);\n",
    "        if key in self.table:\n",
    "            self.table[key].append(word);\n",
    "        else:\n",
    "            self.table[key] = [word]\n",
    "    \n",
    "    def _getKey(self, word):\n",
    "        word = word.lower()\n",
    "        key = [0]*26\n",
    "        for char in word:\n",
    "            if ord(char) - ord('a') < 26 and ord(char) >= ord('a'):\n",
    "                key[ord(char)-ord('a')] += 1\n",
    "        return self._hash(key)\n",
    "\n",
    "    def _hash(self, key_):\n",
    "        key = [str(el) for el in key_]\n",
    "        hash = \",\".join(key)\n",
    "        return hash\n",
    "\n",
    "    def  _findUnitAnagrams(self, word):\n",
    "        key = self._getKey(word)\n",
    "        if key in self.table:\n",
    "            return self.table[key]\n",
    "        else:\n",
    "            return []\n",
    "    \n",
    "    def findAnagrams(self, word):\n",
    "        word = word.lower()\n",
    "        result = [[el] for el in self._findUnitAnagrams(word)]\n",
    "        for i in range(len(word)-1):\n",
    "            pref = word[:i+1]\n",
    "            suff = word[i+1:]\n",
    "            prefAnagrams = self._findUnitAnagrams(pref)\n",
    "            suffAnagrams = self.findAnagrams(suff)\n",
    "            if len(prefAnagrams)*len(suffAnagrams) == 0:\n",
    "                continue\n",
    "            for prefAnagram in prefAnagrams:\n",
    "                for suffAnagram in suffAnagrams:\n",
    "                    result.append([prefAnagram] + suffAnagram)\n",
    "        return result\n",
    "\n"
   ]
  },
  {
   "cell_type": "code",
   "execution_count": 13,
   "metadata": {},
   "outputs": [],
   "source": [
    "fullAnagTable = AnagramTable(dictionary)"
   ]
  },
  {
   "cell_type": "code",
   "execution_count": 36,
   "metadata": {},
   "outputs": [],
   "source": [
    "with open('website/backend/anagramTable.json', 'w') as f:\n",
    "    json.dump(fullAnagTable.table, f)"
   ]
  },
  {
   "cell_type": "code",
   "execution_count": 16,
   "metadata": {},
   "outputs": [
    {
     "name": "stdout",
     "output_type": "stream",
     "text": [
      "[['anagram'], ['an', 'gar', 'am'], ['an', 'gar', 'ma'], ['an', 'rag', 'am'], ['an', 'rag', 'ma']]\n"
     ]
    }
   ],
   "source": [
    "a = fullAnagTable.findAnagrams(\"anagram\")\n",
    "\n",
    "def filterOutLetters(anagrams):\n",
    "    result = []\n",
    "    for anagram in anagrams:\n",
    "        flag = False\n",
    "        for word in anagram:\n",
    "            if len(word) == 1:\n",
    "                flag = True\n",
    "        if flag == False:\n",
    "            result.append(anagram)\n",
    "    return result\n",
    "\n",
    "print(filterOutLetters(a))"
   ]
  },
  {
   "cell_type": "code",
   "execution_count": 17,
   "metadata": {},
   "outputs": [],
   "source": [
    "def getGoodAnagrams(word):\n",
    "    return filterOutLetters(fullAnagTable.findAnagrams(word))"
   ]
  },
  {
   "cell_type": "code",
   "execution_count": 18,
   "metadata": {},
   "outputs": [
    {
     "data": {
      "text/plain": [
       "[['anagram'],\n",
       " ['an', 'gar', 'am'],\n",
       " ['an', 'gar', 'ma'],\n",
       " ['an', 'rag', 'am'],\n",
       " ['an', 'rag', 'ma']]"
      ]
     },
     "execution_count": 18,
     "metadata": {},
     "output_type": "execute_result"
    }
   ],
   "source": [
    "getGoodAnagrams('anagram')"
   ]
  },
  {
   "cell_type": "code",
   "execution_count": 19,
   "metadata": {},
   "outputs": [],
   "source": [
    "totalAnagrams = []"
   ]
  },
  {
   "cell_type": "code",
   "execution_count": 20,
   "metadata": {},
   "outputs": [],
   "source": [
    "# 12minutes execution\n",
    "for word in dictionary:\n",
    "    a = getGoodAnagrams(word)\n",
    "    if len(a) > 1:\n",
    "        totalAnagrams.append([word, a])"
   ]
  },
  {
   "cell_type": "code",
   "execution_count": 21,
   "metadata": {},
   "outputs": [
    {
     "data": {
      "text/plain": [
       "29678"
      ]
     },
     "execution_count": 21,
     "metadata": {},
     "output_type": "execute_result"
    }
   ],
   "source": [
    "len(totalAnagrams)"
   ]
  },
  {
   "cell_type": "code",
   "execution_count": 22,
   "metadata": {},
   "outputs": [],
   "source": [
    "import random"
   ]
  },
  {
   "cell_type": "code",
   "execution_count": 49,
   "metadata": {},
   "outputs": [],
   "source": [
    "def getAnagrams(n):\n",
    "    result = []\n",
    "    anagrams = random.sample(totalAnagrams, n)\n",
    "    for anagram in anagrams:\n",
    "        result.append([anagram[0], random.choice(anagram[1][1:])])\n",
    "    return result"
   ]
  },
  {
   "cell_type": "code",
   "execution_count": 51,
   "metadata": {},
   "outputs": [
    {
     "data": {
      "text/plain": [
       "[['slapdash', ['slap', 'dash']],\n",
       " ['nerves', [\"'n'\", 'serve']],\n",
       " ['lying-in', ['lying', 'in']],\n",
       " ['nonintervention', ['no', 'vintner', 'tine', 'no']],\n",
       " ['refile', ['re', 'life']]]"
      ]
     },
     "execution_count": 51,
     "metadata": {},
     "output_type": "execute_result"
    }
   ],
   "source": [
    "getAnagrams(5)"
   ]
  },
  {
   "cell_type": "code",
   "execution_count": 56,
   "metadata": {},
   "outputs": [
    {
     "data": {
      "text/plain": [
       "[[\"i'm\", 'sh', 'fie'], ['mi', 'sh', 'fie'], ['shim', 'fie']]"
      ]
     },
     "execution_count": 56,
     "metadata": {},
     "output_type": "execute_result"
    }
   ],
   "source": [
    "getGoodAnagrams('mishief')"
   ]
  },
  {
   "cell_type": "code",
   "execution_count": null,
   "metadata": {},
   "outputs": [],
   "source": []
  }
 ],
 "metadata": {
  "kernelspec": {
   "display_name": "Python 3.10.6 64-bit",
   "language": "python",
   "name": "python3"
  },
  "language_info": {
   "codemirror_mode": {
    "name": "ipython",
    "version": 3
   },
   "file_extension": ".py",
   "mimetype": "text/x-python",
   "name": "python",
   "nbconvert_exporter": "python",
   "pygments_lexer": "ipython3",
   "version": "3.10.6"
  },
  "orig_nbformat": 4,
  "vscode": {
   "interpreter": {
    "hash": "e7370f93d1d0cde622a1f8e1c04877d8463912d04d973331ad4851f04de6915a"
   }
  }
 },
 "nbformat": 4,
 "nbformat_minor": 2
}
