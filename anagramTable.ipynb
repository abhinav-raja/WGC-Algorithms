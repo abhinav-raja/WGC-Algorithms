{
 "cells": [
  {
   "cell_type": "code",
   "execution_count": 1,
   "metadata": {},
   "outputs": [],
   "source": [
    "import json"
   ]
  },
  {
   "cell_type": "code",
   "execution_count": 2,
   "metadata": {},
   "outputs": [],
   "source": [
    "#Initialise dictionary\n",
    "with open(\"dict.txt\") as f:\n",
    "    dictionary = [el[:-1] for el in f.readlines()]"
   ]
  },
  {
   "cell_type": "code",
   "execution_count": 32,
   "metadata": {},
   "outputs": [],
   "source": [
    "#Anagram table\n",
    "class AnagramTable(object):\n",
    "\n",
    "    def __init__(self, words):\n",
    "            self.table = {}\n",
    "            for word in words:\n",
    "                self.add(word)\n",
    "\n",
    "    def add(self, word):\n",
    "        word = word.lower()\n",
    "        key = self._getKey(word);\n",
    "        if key in self.table:\n",
    "            self.table[key].append(word);\n",
    "        else:\n",
    "            self.table[key] = [word]\n",
    "    \n",
    "    def _getKey(self, word):\n",
    "        word = word.lower()\n",
    "        key = [0]*26\n",
    "        for char in word:\n",
    "            if ord(char) - ord('a') < 26 and ord(char) >= ord('a'):\n",
    "                key[ord(char)-ord('a')] += 1\n",
    "        return self._hash(key)\n",
    "\n",
    "    def _hash(self, key_):\n",
    "        key = [str(el) for el in key_]\n",
    "        hash = \",\".join(key)\n",
    "        return hash\n"
   ]
  },
  {
   "cell_type": "code",
   "execution_count": 34,
   "metadata": {},
   "outputs": [],
   "source": [
    "fullAnagTable = AnagramTable(dictionary)"
   ]
  },
  {
   "cell_type": "code",
   "execution_count": 36,
   "metadata": {},
   "outputs": [],
   "source": [
    "with open('website/backend/anagramTable.json', 'w') as f:\n",
    "    json.dump(fullAnagTable.table, f)"
   ]
  }
 ],
 "metadata": {
  "kernelspec": {
   "display_name": "Python 3.10.6 64-bit",
   "language": "python",
   "name": "python3"
  },
  "language_info": {
   "codemirror_mode": {
    "name": "ipython",
    "version": 3
   },
   "file_extension": ".py",
   "mimetype": "text/x-python",
   "name": "python",
   "nbconvert_exporter": "python",
   "pygments_lexer": "ipython3",
   "version": "3.10.6"
  },
  "orig_nbformat": 4,
  "vscode": {
   "interpreter": {
    "hash": "916dbcbb3f70747c44a77c7bcd40155683ae19c65e1c03b4aa3499c5328201f1"
   }
  }
 },
 "nbformat": 4,
 "nbformat_minor": 2
}
