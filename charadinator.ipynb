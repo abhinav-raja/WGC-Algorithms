{
 "cells": [
  {
   "cell_type": "code",
   "execution_count": 42,
   "metadata": {},
   "outputs": [],
   "source": [
    "#Libraries\n",
    "import random"
   ]
  },
  {
   "cell_type": "code",
   "execution_count": 43,
   "metadata": {},
   "outputs": [],
   "source": [
    "#Initialise the dictionary\n",
    "with open(\"dict.txt\") as f:\n",
    "    dictionary = [el[:-1] for el in f.readlines()]"
   ]
  },
  {
   "cell_type": "code",
   "execution_count": 44,
   "metadata": {},
   "outputs": [],
   "source": [
    "#Binary Search to check if an element exists\n",
    "\n",
    "\n",
    "def binarySearch(arr, check):\n",
    "    l = -1\n",
    "    r = len(arr)\n",
    "    while(r-l > 1):\n",
    "        mid = (l + r)//2\n",
    "        if check(arr[mid]):\n",
    "            r = mid\n",
    "        else:\n",
    "            l = mid\n",
    "    return l\n",
    "\n",
    "def isValid(word):\n",
    "    l = binarySearch(dictionary, lambda x: x > word)\n",
    "    if dictionary[l] == word:\n",
    "        return True\n",
    "    else:\n",
    "        return False"
   ]
  },
  {
   "cell_type": "code",
   "execution_count": 45,
   "metadata": {},
   "outputs": [
    {
     "ename": "KeyboardInterrupt",
     "evalue": "",
     "output_type": "error",
     "traceback": [
      "\u001b[0;31m---------------------------------------------------------------------------\u001b[0m",
      "\u001b[0;31mKeyboardInterrupt\u001b[0m                         Traceback (most recent call last)",
      "Cell \u001b[0;32mIn [45], line 7\u001b[0m\n\u001b[1;32m      5\u001b[0m \u001b[39mfor\u001b[39;00m b \u001b[39min\u001b[39;00m dictionary[:\u001b[39m3000\u001b[39m]:\n\u001b[1;32m      6\u001b[0m     word \u001b[39m=\u001b[39m a \u001b[39m+\u001b[39m b\n\u001b[0;32m----> 7\u001b[0m     \u001b[39mif\u001b[39;00m isValid(word):\n\u001b[1;32m      8\u001b[0m         totCharades\u001b[39m.\u001b[39mappend((a, b, word))\n",
      "Cell \u001b[0;32mIn [44], line 16\u001b[0m, in \u001b[0;36misValid\u001b[0;34m(word)\u001b[0m\n\u001b[1;32m     15\u001b[0m \u001b[39mdef\u001b[39;00m \u001b[39misValid\u001b[39m(word):\n\u001b[0;32m---> 16\u001b[0m     l \u001b[39m=\u001b[39m binarySearch(dictionary, \u001b[39mlambda\u001b[39;49;00m x: x \u001b[39m>\u001b[39;49m word)\n\u001b[1;32m     17\u001b[0m     \u001b[39mif\u001b[39;00m dictionary[l] \u001b[39m==\u001b[39m word:\n\u001b[1;32m     18\u001b[0m         \u001b[39mreturn\u001b[39;00m \u001b[39mTrue\u001b[39;00m\n",
      "Cell \u001b[0;32mIn [44], line 9\u001b[0m, in \u001b[0;36mbinarySearch\u001b[0;34m(arr, check)\u001b[0m\n\u001b[1;32m      7\u001b[0m \u001b[39mwhile\u001b[39;00m(r\u001b[39m-\u001b[39ml \u001b[39m>\u001b[39m \u001b[39m1\u001b[39m):\n\u001b[1;32m      8\u001b[0m     mid \u001b[39m=\u001b[39m (l \u001b[39m+\u001b[39m r)\u001b[39m/\u001b[39m\u001b[39m/\u001b[39m\u001b[39m2\u001b[39m\n\u001b[0;32m----> 9\u001b[0m     \u001b[39mif\u001b[39;00m check(arr[mid]):\n\u001b[1;32m     10\u001b[0m         r \u001b[39m=\u001b[39m mid\n\u001b[1;32m     11\u001b[0m     \u001b[39melse\u001b[39;00m:\n",
      "Cell \u001b[0;32mIn [44], line 16\u001b[0m, in \u001b[0;36misValid.<locals>.<lambda>\u001b[0;34m(x)\u001b[0m\n\u001b[1;32m     15\u001b[0m \u001b[39mdef\u001b[39;00m \u001b[39misValid\u001b[39m(word):\n\u001b[0;32m---> 16\u001b[0m     l \u001b[39m=\u001b[39m binarySearch(dictionary, \u001b[39mlambda\u001b[39;00m x: x \u001b[39m>\u001b[39m word)\n\u001b[1;32m     17\u001b[0m     \u001b[39mif\u001b[39;00m dictionary[l] \u001b[39m==\u001b[39m word:\n\u001b[1;32m     18\u001b[0m         \u001b[39mreturn\u001b[39;00m \u001b[39mTrue\u001b[39;00m\n",
      "\u001b[0;31mKeyboardInterrupt\u001b[0m: "
     ]
    }
   ],
   "source": [
    "#~25-30 secs for 3000 words ~ 10^7 ops\n",
    "totCharades = []\n",
    "\n",
    "for a in dictionary[:3000]:\n",
    "    for b in dictionary[:3000]:\n",
    "        word = a + b\n",
    "        if isValid(word):\n",
    "            totCharades.append((a, b, word))"
   ]
  },
  {
   "cell_type": "code",
   "execution_count": 46,
   "metadata": {},
   "outputs": [],
   "source": [
    "#to implement validity checking via trie, we need to add a termination character $\n",
    "\n",
    "class Trie(object):\n",
    "    #Implementation of a simple trie\n",
    "\n",
    "    def  __init__(self, strings):\n",
    "        self.root = {}\n",
    "        self.terminator = '$'\n",
    "        for string in strings: self.add(string)\n",
    "    \n",
    "    def add(self, string):\n",
    "        string += self.terminator\n",
    "        curr = self.root\n",
    "        for c in string:\n",
    "            if c not in curr:\n",
    "                curr[c] = {}\n",
    "            curr = curr[c]\n",
    "\n",
    "    #Get a random string with given prefix, or report none exists:\n",
    "    def query(self, pref):\n",
    "        curr = self.root\n",
    "        result = pref\n",
    "        for c in pref:\n",
    "            if c not in curr:\n",
    "                return None\n",
    "            curr = curr[c]\n",
    "        while curr:\n",
    "            c = random.choice(list(curr.keys()))\n",
    "            result += c\n",
    "            curr = curr[c]\n",
    "        return result\n",
    "    \n",
    "    #Check if a word exists\n",
    "    def isValid(self, word):\n",
    "        word += self.terminator\n",
    "        curr = self.root\n",
    "        for c in word:\n",
    "            if c not in curr:\n",
    "                return False\n",
    "            curr = curr[c]\n",
    "        return True\n",
    "\n",
    "fullTrie = Trie(dictionary)"
   ]
  },
  {
   "cell_type": "code",
   "execution_count": 47,
   "metadata": {},
   "outputs": [
    {
     "ename": "KeyboardInterrupt",
     "evalue": "",
     "output_type": "error",
     "traceback": [
      "\u001b[0;31m---------------------------------------------------------------------------\u001b[0m",
      "\u001b[0;31mKeyboardInterrupt\u001b[0m                         Traceback (most recent call last)",
      "Cell \u001b[0;32mIn [47], line 8\u001b[0m\n\u001b[1;32m      6\u001b[0m \u001b[39mfor\u001b[39;00m b \u001b[39min\u001b[39;00m dictionary:\n\u001b[1;32m      7\u001b[0m     word \u001b[39m=\u001b[39m a \u001b[39m+\u001b[39m b\n\u001b[0;32m----> 8\u001b[0m     \u001b[39mif\u001b[39;00m fullTrie\u001b[39m.\u001b[39;49misValid(word):\n\u001b[1;32m      9\u001b[0m         totCharades\u001b[39m.\u001b[39mappend((a, b, word))\n",
      "Cell \u001b[0;32mIn [46], line 38\u001b[0m, in \u001b[0;36mTrie.isValid\u001b[0;34m(self, word)\u001b[0m\n\u001b[1;32m     36\u001b[0m curr \u001b[39m=\u001b[39m \u001b[39mself\u001b[39m\u001b[39m.\u001b[39mroot\n\u001b[1;32m     37\u001b[0m \u001b[39mfor\u001b[39;00m c \u001b[39min\u001b[39;00m word:\n\u001b[0;32m---> 38\u001b[0m     \u001b[39mif\u001b[39;00m c \u001b[39mnot\u001b[39;00m \u001b[39min\u001b[39;00m curr:\n\u001b[1;32m     39\u001b[0m         \u001b[39mreturn\u001b[39;00m \u001b[39mFalse\u001b[39;00m\n\u001b[1;32m     40\u001b[0m     curr \u001b[39m=\u001b[39m curr[c]\n",
      "\u001b[0;31mKeyboardInterrupt\u001b[0m: "
     ]
    }
   ],
   "source": [
    "#~4 seconds for 3000 words ~ 10^7 ops - impressive speedup!\n",
    "#50 secs for 10^8\n",
    "totCharades = []\n",
    "\n",
    "for a in dictionary:\n",
    "    for b in dictionary:\n",
    "        word = a + b\n",
    "        if fullTrie.isValid(word):\n",
    "            totCharades.append((a, b, word))"
   ]
  },
  {
   "cell_type": "markdown",
   "metadata": {},
   "source": [
    "# $\\mathcal O(nm)$ Charade Generation\n",
    "Since $m << n$ for a decent dictionary, this presents a polynomial speedup to the $\\mathcal O(n^2m)$ algorithm above.\n",
    "\n",
    "The key idea is that instead of going through each combination of two words, we simply look at each word and see if it can be broken down into two valid words. \n",
    "\n",
    "Let $p_i$ represent the prefix upto $i$ characters, ie `word[:i]` and $s_i$ represent the suffix of length $i$ or `word[-i:]`. Then a word of length $m$ is a charade iff $\\exists i\\in[1,m-1] \\ni p_i, s_{m-i}$ are both valid.\n",
    "\n",
    "In order to efficiently check this, define operation `prefixValidity(word)` on the Trie that returns a boolean array denoting whether each prefix of the array is valid or not. This is done in $\\mathcal O(m)$ time and we need to do it twice for each word, giving an overall complexity of $\\mathcal O(nm)$"
   ]
  },
  {
   "cell_type": "code",
   "execution_count": 48,
   "metadata": {},
   "outputs": [],
   "source": [
    "#to implement validity checking via trie, we need to add a termination character $\n",
    "\n",
    "class Trie(object):\n",
    "    #Implementation of a simple trie\n",
    "\n",
    "    def  __init__(self, strings):\n",
    "        self.root = {}\n",
    "        self.terminator = '$'\n",
    "        for string in strings: self.add(string)\n",
    "    \n",
    "    def add(self, string):\n",
    "        string += self.terminator\n",
    "        curr = self.root\n",
    "        for c in string:\n",
    "            if c not in curr:\n",
    "                curr[c] = {}\n",
    "            curr = curr[c]\n",
    "\n",
    "    #Get a random string with given prefix, or report none exists:\n",
    "    def query(self, pref):\n",
    "        curr = self.root\n",
    "        result = pref\n",
    "        for c in pref:\n",
    "            if c not in curr:\n",
    "                return None\n",
    "            curr = curr[c]\n",
    "        while curr:\n",
    "            c = random.choice(list(curr.keys()))\n",
    "            result += c\n",
    "            curr = curr[c]\n",
    "        return result\n",
    "    \n",
    "    #Check if a word exists\n",
    "    def isValid(self, word):\n",
    "        word += self.terminator\n",
    "        curr = self.root\n",
    "        for c in word:\n",
    "            if c not in curr:\n",
    "                return False\n",
    "            curr = curr[c]\n",
    "        return True\n",
    "    \n",
    "    #Return a boolean array denoting the validity of each prefix of the word\n",
    "    def prefixValidity(self, word):\n",
    "        result = [False]*(len(word)-1)\n",
    "        curr = self.root\n",
    "        for i in range(len(word)-1):\n",
    "            c = word[i]\n",
    "            if c not in curr:\n",
    "                return result\n",
    "            curr = curr[c]\n",
    "            if self.terminator in curr:\n",
    "                result[i] = True\n",
    "        return result\n",
    "\n",
    "fullTrie = Trie(dictionary)\n",
    "suffixTrie = Trie([el[::-1] for el in dictionary])"
   ]
  },
  {
   "cell_type": "code",
   "execution_count": 64,
   "metadata": {},
   "outputs": [],
   "source": [
    "def findCharadesInWord(word):\n",
    "    result = []\n",
    "    p = fullTrie.prefixValidity(word)\n",
    "    s = suffixTrie.prefixValidity(word[::-1])[::-1]\n",
    "    for i in range(1, len(word)):\n",
    "        if p[i-1] and s[i-1]:\n",
    "            #stricter conditions to prevent lower quality charades\n",
    "            if i > 2 and len(word)-i > 2:\n",
    "                result.append((word[:i], word[i:], word))\n",
    "    return result\n",
    "    "
   ]
  },
  {
   "cell_type": "code",
   "execution_count": 65,
   "metadata": {},
   "outputs": [],
   "source": [
    "#3000 words in 0.6s, major speedup\n",
    "#Gets through the whole dictionary in less than a second\n",
    "\n",
    "#find all possible charades\n",
    "def findAllCharades():\n",
    "    result = []\n",
    "    for word in dictionary:\n",
    "        for el in findCharadesInWord(word):\n",
    "            result.append(el)\n",
    "    return result\n",
    "\n",
    "totCharades = findAllCharades()"
   ]
  },
  {
   "cell_type": "code",
   "execution_count": 66,
   "metadata": {},
   "outputs": [],
   "source": [
    "def generateCharades(n):\n",
    "    result = list(random.sample(totCharades, n))\n",
    "    return result"
   ]
  },
  {
   "cell_type": "code",
   "execution_count": 123,
   "metadata": {},
   "outputs": [
    {
     "name": "stdout",
     "output_type": "stream",
     "text": [
      "('song', 'stress', 'songstress')\n",
      "('asp', 'halt', 'asphalt')\n",
      "('out', 'gun', 'outgun')\n",
      "('over', 'growth', 'overgrowth')\n",
      "('over', 'draft', 'overdraft')\n"
     ]
    }
   ],
   "source": [
    "for el in generateCharades(5):\n",
    "    print(el)"
   ]
  },
  {
   "cell_type": "markdown",
   "metadata": {},
   "source": [
    "Next part kinda optional, it fully generates the charade clue by substituting in synonyms for each word. Uses `wordnet` library"
   ]
  },
  {
   "cell_type": "code",
   "execution_count": 74,
   "metadata": {},
   "outputs": [
    {
     "name": "stderr",
     "output_type": "stream",
     "text": [
      "[nltk_data] Downloading package omw-1.4 to /home/abhi/nltk_data...\n"
     ]
    },
    {
     "data": {
      "text/plain": [
       "True"
      ]
     },
     "execution_count": 74,
     "metadata": {},
     "output_type": "execute_result"
    }
   ],
   "source": [
    "from nltk.corpus import wordnet as wn\n",
    "import nltk\n",
    "nltk.download('omw-1.4')"
   ]
  },
  {
   "cell_type": "code",
   "execution_count": 85,
   "metadata": {},
   "outputs": [],
   "source": [
    "def getSynonyms(word):\n",
    "    result = []\n",
    "    for el in list(wn.synsets(word)):\n",
    "        syn = el.name().split('.')[0]\n",
    "        syn = (' ').join(syn.split('_'))\n",
    "        if syn != word:\n",
    "            result.append(syn)\n",
    "    return result"
   ]
  },
  {
   "cell_type": "code",
   "execution_count": 98,
   "metadata": {},
   "outputs": [],
   "source": [
    "def formatCharade(charade):\n",
    "    result = []\n",
    "    for word in charade:\n",
    "        syns = getSynonyms(word)\n",
    "        if len(syns) != 0:\n",
    "            result.append(random.choice(syns))\n",
    "        else:\n",
    "            result.append(word)\n",
    "    result = result[0] + \" + \" + result[1] + \" = \" + result[2]\n",
    "    return {\n",
    "        'question': result,\n",
    "        'answer': charade\n",
    "    }"
   ]
  },
  {
   "cell_type": "code",
   "execution_count": 129,
   "metadata": {},
   "outputs": [
    {
     "name": "stdout",
     "output_type": "stream",
     "text": [
      "shipshape + ester = spare  |  ('trim', 'ester', 'trimester')\n",
      "buttocks + about = backmost  |  ('rear', 'most', 'rearmost')\n",
      "thinly + baron = think  |  ('thin', 'king', 'thinking')\n",
      "shoot + peg = pippin  |  ('pip', 'pin', 'pippin')\n",
      "hydraulic + ally = hydraulically  |  ('hydraulic', 'ally', 'hydraulically')\n"
     ]
    }
   ],
   "source": [
    "for charade in generateCharades(5):\n",
    "    print(formatCharade(charade)['question'], formatCharade(charade)['answer'], sep=\"  |  \")"
   ]
  }
 ],
 "metadata": {
  "kernelspec": {
   "display_name": "Python 3.10.6 64-bit",
   "language": "python",
   "name": "python3"
  },
  "language_info": {
   "codemirror_mode": {
    "name": "ipython",
    "version": 3
   },
   "file_extension": ".py",
   "mimetype": "text/x-python",
   "name": "python",
   "nbconvert_exporter": "python",
   "pygments_lexer": "ipython3",
   "version": "3.10.6"
  },
  "orig_nbformat": 4,
  "vscode": {
   "interpreter": {
    "hash": "916dbcbb3f70747c44a77c7bcd40155683ae19c65e1c03b4aa3499c5328201f1"
   }
  }
 },
 "nbformat": 4,
 "nbformat_minor": 2
}
