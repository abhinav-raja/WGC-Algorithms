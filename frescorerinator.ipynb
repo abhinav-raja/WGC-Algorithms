{
 "cells": [
  {
   "cell_type": "code",
   "execution_count": 6,
   "metadata": {},
   "outputs": [],
   "source": [
    "import random\n",
    "import pyperclip"
   ]
  },
  {
   "cell_type": "code",
   "execution_count": 7,
   "metadata": {},
   "outputs": [],
   "source": [
    "class Trie(object):\n",
    "    #Implementation of a simple trie\n",
    "\n",
    "    def  __init__(self, strings):\n",
    "        self.root = {}\n",
    "        for string in strings: self.add(string)\n",
    "    \n",
    "    def add(self, string):\n",
    "        curr = self.root\n",
    "        for c in string:\n",
    "            if c not in curr:\n",
    "                curr[c] = {}\n",
    "            curr = curr[c]\n",
    "\n",
    "    #Get a random string with given prefix, or report none exists:\n",
    "    def query(self, pref):\n",
    "        curr = self.root\n",
    "        result = pref\n",
    "        for c in pref:\n",
    "            if c not in curr:\n",
    "                return None\n",
    "            curr = curr[c]\n",
    "        while curr:\n",
    "            c = random.choice(list(curr.keys()))\n",
    "            result += c\n",
    "            curr = curr[c]\n",
    "        return result"
   ]
  },
  {
   "cell_type": "code",
   "execution_count": 8,
   "metadata": {},
   "outputs": [],
   "source": [
    "t = Trie([\"hello\", \"hell\", \"helm\", \"helmet\", \"helk\"])"
   ]
  },
  {
   "cell_type": "code",
   "execution_count": 9,
   "metadata": {},
   "outputs": [
    {
     "data": {
      "text/plain": [
       "'hello'"
      ]
     },
     "execution_count": 9,
     "metadata": {},
     "output_type": "execute_result"
    }
   ],
   "source": [
    "t.query(\"hel\")"
   ]
  },
  {
   "cell_type": "code",
   "execution_count": 10,
   "metadata": {},
   "outputs": [
    {
     "name": "stdout",
     "output_type": "stream",
     "text": [
      "41242 words loaded\n"
     ]
    }
   ],
   "source": [
    "#Initialise the full dictionary\n",
    "with open('dict.txt') as f:\n",
    "    #remove \\n character\n",
    "    dictionary = [el[:-1] for el in f.readlines()]\n",
    "\n",
    "print(len(dictionary), \"words loaded\")"
   ]
  },
  {
   "cell_type": "code",
   "execution_count": 11,
   "metadata": {},
   "outputs": [],
   "source": [
    "fullTrie = Trie(dictionary)"
   ]
  },
  {
   "cell_type": "markdown",
   "metadata": {},
   "source": [
    "Below I compare a query from the trie vs naive querying the list. Trie does seem to be faster on average however a double binary search might be faster than both"
   ]
  },
  {
   "cell_type": "code",
   "execution_count": 62,
   "metadata": {},
   "outputs": [
    {
     "data": {
      "text/plain": [
       "'casket'"
      ]
     },
     "execution_count": 62,
     "metadata": {},
     "output_type": "execute_result"
    }
   ],
   "source": [
    "fullTrie.query('cas')"
   ]
  },
  {
   "cell_type": "code",
   "execution_count": 28,
   "metadata": {},
   "outputs": [
    {
     "data": {
      "text/plain": [
       "'casuist'"
      ]
     },
     "execution_count": 28,
     "metadata": {},
     "output_type": "execute_result"
    }
   ],
   "source": [
    "random.choice([el for el in dictionary if el.startswith('cas')])"
   ]
  },
  {
   "cell_type": "code",
   "execution_count": 48,
   "metadata": {},
   "outputs": [],
   "source": [
    "def binarySearch(arr, check):\n",
    "    l = -1\n",
    "    r = len(arr)\n",
    "    while(r-l > 1):\n",
    "        mid = (l + r)//2\n",
    "        if check(arr[mid]):\n",
    "            r = mid\n",
    "        else:\n",
    "            l = mid\n",
    "    return l"
   ]
  },
  {
   "cell_type": "code",
   "execution_count": 57,
   "metadata": {},
   "outputs": [
    {
     "data": {
      "text/plain": [
       "'cascade'"
      ]
     },
     "execution_count": 57,
     "metadata": {},
     "output_type": "execute_result"
    }
   ],
   "source": [
    "l = binarySearch(dictionary, lambda x: (x[:min(3, len(x))] >= 'cas'))\n",
    "r = binarySearch(dictionary, lambda x: (x[:min(3, len(x))] > 'cas'))\n",
    "if(l + 1 <= r):\n",
    "    l += 1\n",
    "else:\n",
    "    l = r\n",
    "random.choice(dictionary[l:r])"
   ]
  },
  {
   "cell_type": "code",
   "execution_count": 13,
   "metadata": {},
   "outputs": [],
   "source": [
    "#Now for the code to generate a frescorer\n",
    "\n",
    "def _frescorer(minLength, maxLength):\n",
    "    valid = False\n",
    "    while not valid:\n",
    "        a = random.choice(dictionary)\n",
    "        if len(a) < minLength or len(a) > maxLength: continue\n",
    "        b = fullTrie.query(a[-3:])\n",
    "        if b is None or len(b) < minLength or len(b) > maxLength: continue\n",
    "        valid = True\n",
    "    return (a, b)\n",
    "\n",
    "def generateFrescorers(n, minLength=5, maxLength=7):\n",
    "    result = []\n",
    "    for i in range(n):\n",
    "        result.append(_frescorer(minLength, maxLength))\n",
    "    return result\n",
    "\n",
    "#Make them into question format\n",
    "def formatFrescorers(frescorers):\n",
    "    result = \"\"\n",
    "    answers=\"\"\n",
    "    for frescorer in frescorers:\n",
    "        result += frescorer[0][:-3] + \"_\"*3 + frescorer[1][3:] + \"\\n\"\n",
    "        answers += frescorer[0][-3:] + \"\\n\"\n",
    "    return {\n",
    "        'questions': result,\n",
    "        'answers': answers\n",
    "    }"
   ]
  },
  {
   "cell_type": "code",
   "execution_count": 14,
   "metadata": {},
   "outputs": [
    {
     "name": "stdout",
     "output_type": "stream",
     "text": [
      "samo___mint\n",
      "al___ms\n",
      "toc___less\n",
      "ne___kin\n",
      "chan___son\n",
      "\n",
      "var\n",
      "ter\n",
      "sin\n",
      "wel\n",
      "nel\n",
      "\n"
     ]
    }
   ],
   "source": [
    "f = formatFrescorers(generateFrescorers(5,5,7))\n",
    "print(f['questions'])\n",
    "print(f['answers'])"
   ]
  }
 ],
 "metadata": {
  "kernelspec": {
   "display_name": "Python 3.10.6 64-bit",
   "language": "python",
   "name": "python3"
  },
  "language_info": {
   "codemirror_mode": {
    "name": "ipython",
    "version": 3
   },
   "file_extension": ".py",
   "mimetype": "text/x-python",
   "name": "python",
   "nbconvert_exporter": "python",
   "pygments_lexer": "ipython3",
   "version": "3.10.6"
  },
  "orig_nbformat": 4,
  "vscode": {
   "interpreter": {
    "hash": "916dbcbb3f70747c44a77c7bcd40155683ae19c65e1c03b4aa3499c5328201f1"
   }
  }
 },
 "nbformat": 4,
 "nbformat_minor": 2
}
